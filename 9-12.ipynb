{
 "cells": [
  {
   "cell_type": "markdown",
   "id": "5f61b205",
   "metadata": {},
   "source": [
    "# 9  Funkcje rekurencyjne oraz metoda dziel i zwyciężaj"
   ]
  },
  {
   "cell_type": "markdown",
   "id": "27a1e04c",
   "metadata": {},
   "source": [
    "Funkcja rekurencyjna wywołuje samą siebie\n",
    "\n",
    "Część zadania, którą wykonujemy bez pomocy rekurencji nazywamy przypadkiem bazowym\n",
    "\n",
    "Każde zadanie, które można rozwiązać za pomocą rekurencji, można także rozwiązać przy użyciu pętli\n",
    "\n",
    "Gdy funkcja A() wywołuje funkcję B(), która wywołuje funkcję A(), to wówczas mamy do czynienia z rekurencją pośrednią\n",
    "\n",
    "Metoda programowania, która polega na dzieleniu programu na podzadania a potem scalenia ich rozwiązania po angielsku nazywamy \n",
    "divide and conquer\n",
    "\n",
    "Operacje mające miejsce podczas wywoływania funkcji, takie jak alokacja pamięci dla parametrów i zmiennych lokalnych nazywamy \n",
    "obciążeniem"
   ]
  },
  {
   "cell_type": "markdown",
   "id": "becda145",
   "metadata": {},
   "source": [
    "<font color = green>Algorytm wykorzystujący pętle będzie zazwyczaj działał szybciej od odpowiadającego mu algorytmu rekurencyjnego</font>\n",
    "\n",
    "Przypadek bazowy w algorytmie rekurencyjnym ma na celu przechwycić błąd programu i zamknąć program\n",
    "\n",
    "Nie we wszystkich algorytmach rekurencyjnych należy określić przypadek bazowy\n",
    "\n",
    "<font color = green>Przypadek rekurencyjny w algorytmie rekurencyjnym ma na celu ograniczyć problem do uproszczonej wersji zadania pierwotnego</font>\n",
    "\n",
    "Nie istnieje algorytm iteracyjny obliczający n-ty wyraz ciągu Fibonacciego\n",
    "\n",
    "<font color = green>W przypadku rekurencyjnym metoda rekurencyjna wywołuje samą siebie, rozwiązując uproszczoną wersję zadania pierwotnego.</font>"
   ]
  },
  {
   "cell_type": "markdown",
   "id": "55b13491",
   "metadata": {},
   "source": [
    "W przedstawionej poniżej funkcji wykorzystano pętlę. Zmodyfikuj program tak, aby za pomocą rekurencji wykonywał tę samą operację."
   ]
  },
  {
   "cell_type": "code",
   "execution_count": 2,
   "id": "e1fedda2",
   "metadata": {},
   "outputs": [],
   "source": [
    "def f(n):\n",
    "    while (n > 0):\n",
    "        print(\"Zakaz chodzenia\")\n",
    "        n = n - 1"
   ]
  },
  {
   "cell_type": "code",
   "execution_count": 3,
   "id": "faa1b764",
   "metadata": {},
   "outputs": [],
   "source": [
    "def f(n):\n",
    "    if (n > 0):\n",
    "        print(\"Zakaz chodzenia\")\n",
    "        f(n-1)"
   ]
  },
  {
   "cell_type": "markdown",
   "id": "0c6f2948",
   "metadata": {},
   "source": [
    "Utwórz funkcję rekurencyjną o nazwie print_rec(n) akceptującą argument w postaci liczby całkowitej nn i wyświetlającą liczby z przedziału od 1 do nn."
   ]
  },
  {
   "cell_type": "code",
   "execution_count": 5,
   "id": "83fd9ee0",
   "metadata": {},
   "outputs": [],
   "source": [
    "def print_rec(n):\n",
    "    if n > 0:\n",
    "        print_rec(n - 1)\n",
    "        print(n)"
   ]
  },
  {
   "cell_type": "markdown",
   "id": "ac6e32b7",
   "metadata": {},
   "source": [
    "Utwórz funkcję sum_list(numbers), która jako argument będzie przyjmowała listę liczb. Działanie tej funkcji ma polegać na obliczeniu za pomocą rekurencji sumy wszystkich elementów listy i zwróceniu tej wartości."
   ]
  },
  {
   "cell_type": "code",
   "execution_count": 6,
   "id": "d9db1dfb",
   "metadata": {},
   "outputs": [],
   "source": [
    "def sum_list(numbers):\n",
    "    if len(numbers)==0:\n",
    "        return 0\n",
    "    else:\n",
    "        return numbers[0] + sum_list(numbers[1:]) "
   ]
  },
  {
   "cell_type": "markdown",
   "id": "fff7a73b",
   "metadata": {},
   "source": [
    "Napisz funkcję rekurencyjną max_rec(numbers), który jako argument będzie przyjmowała listę i zwracała wartość największego jej elementu."
   ]
  },
  {
   "cell_type": "code",
   "execution_count": 7,
   "id": "d7bec251",
   "metadata": {},
   "outputs": [],
   "source": [
    "def max_rec(numbers):\n",
    "    if len(numbers) == 1:\n",
    "        return numbers[0]\n",
    "    else:\n",
    "        return max(numbers[0],max_rec(numbers[1:]))"
   ]
  },
  {
   "cell_type": "markdown",
   "id": "fb39e501",
   "metadata": {},
   "source": [
    "W informatyce (ale bardziej w elektronice) używa się oprócz systemu binarnego używa się systemu szesnastkowego (heksadecymalny). \n",
    "\n",
    "Zamiana na ten system wygląda podobnie jak w systemie dwójkowym (ale z tą różnicą że dzielimy przez liczbę 16)."
   ]
  },
  {
   "cell_type": "code",
   "execution_count": 8,
   "id": "412f388a",
   "metadata": {},
   "outputs": [],
   "source": [
    "def dec_to_hex(n):\n",
    "    digits = \"0123456789ABCDEF\"\n",
    "    x = (n % 16)\n",
    "    rest = n // 16\n",
    "    if (n == 0):\n",
    "        return digits[x]\n",
    "    dec_to_hex(rest)\n",
    "    print(digits[x],end=\"\")"
   ]
  },
  {
   "cell_type": "markdown",
   "id": "8668849a",
   "metadata": {},
   "source": [
    "Napisz funkcję rekurencyjną addList z parametrem dodatkowym, który będzie obliczał sumę liczb listy podanej jako argument tej funkcji."
   ]
  },
  {
   "cell_type": "code",
   "execution_count": 9,
   "id": "a484f602",
   "metadata": {},
   "outputs": [],
   "source": [
    "def addList(num_list,n):\n",
    "    if len(num_list) == 0:\n",
    "        return 0\n",
    "    return num_list[0] + addList(num_list[1:],n)\n"
   ]
  },
  {
   "cell_type": "markdown",
   "id": "84de0c53",
   "metadata": {},
   "source": [
    "Napisz rekurencyjną funkcję palindrom, który jako argument pobierze napis. Wynikiem tej funkcji ma być wynik True/False w zależności czy dany napis jest palindromem czy nie."
   ]
  },
  {
   "cell_type": "code",
   "execution_count": 10,
   "id": "38c65240",
   "metadata": {},
   "outputs": [],
   "source": [
    "def palindrom(slowo):\n",
    "    if len(slowo) < 2: return True\n",
    "    if slowo[0] != slowo[-1]: return False\n",
    "    return palindrom(slowo[1:-1])"
   ]
  },
  {
   "cell_type": "markdown",
   "id": "4649646f",
   "metadata": {},
   "source": [
    "Napisz rekurencyjną funkcje o nazwie flatten_array, który jako argument przyjmuje listę, która może składać się z list. Wynikiem tej funkcji ma być jedna lista (patrz przykłady poniżej).\n",
    "\n",
    "Wskazówka: Należy uzyć operatora type, aby sprawdzić czy dany element jest listą lub skorzystać z operatora isInstance.\n",
    "\n",
    "flatten_array([1,2,3]) = [1,2,3]\n",
    "flatten_array([1,[2,3]]) = [1,2,3]\n",
    "flatten_array([1,[2,[3]]]) = [1,2,3]"
   ]
  },
  {
   "cell_type": "code",
   "execution_count": 11,
   "id": "7b16481b",
   "metadata": {},
   "outputs": [],
   "source": [
    "def flatten_array(array):\n",
    "    if isinstance(array, list):\n",
    "        if len(array) == 0:\n",
    "            return []\n",
    "        n, r = array[0], array[1:]\n",
    "        return flatten_array(n) + flatten_array(r)\n",
    "    else:\n",
    "        return [array]"
   ]
  },
  {
   "cell_type": "markdown",
   "id": "9a8df651",
   "metadata": {},
   "source": [
    "# 10 Operacje i wyjątki przy obsłudze plików"
   ]
  },
  {
   "cell_type": "markdown",
   "id": "7de7c78c",
   "metadata": {},
   "source": [
    "Zanim zaczniemy przetwarzać plik w programie, należy go najpierw otworzyć\n",
    "\n",
    "Pliki binarne zawierają dane, które nie zostały skonwertowane na tekst.\n",
    "\n",
    "Gdy plik jest otworzony w trybie dołączenia, nowe dane zostaną dodane na jego końcu.\n",
    "\n",
    "Pracując z plikami o dostępie swobodnym, możemy przejść do dowolnego miejsca pliku, bez potrzeby odczytywania danych zapisanych wcześniej.\n",
    "\n",
    "Pliki, które są zbliżone do plików w arkuszu kalkulacyjnym nazywamy plikami w formacie csv\n",
    "\n",
    "Skrót JSON to w rozwinięciu JavaScript object Notation."
   ]
  },
  {
   "cell_type": "markdown",
   "id": "500581c5",
   "metadata": {},
   "source": [
    "Format CSV jest bardzo użyteczny w wielu witrynach internetowych\n",
    "\n",
    "<font color = green>Słowniki w Pythonie są bardzo bliskie formatowi JavaScript Object Notation</font>\n",
    "\n",
    "Po otworzeniu pliku wyjściowego w trybie dołączania jego dotychczasowa zawartość zostanie usunięta\n",
    "\n",
    "<font color = green>Otworzenie w trybie 'w' pliku wyjściowego, który już istnieje na dysku, zakończy się usunięciem jego dotychczasowej zawartości</font>\n",
    "\n",
    "<font color = green>Zamknięcie pliku dla programu oznacza zwolnienie pamięci w systemie operacyjnym</font>\n",
    "\n",
    "Pracując z plikiem otworzonym w trybie sekwencyjnym, można przejść do dowolnego jego miejsca bez konieczności odczytywania danych zapisanych wcześniej"
   ]
  },
  {
   "cell_type": "markdown",
   "id": "d61e00d2",
   "metadata": {},
   "source": [
    "Napisz program, który utworzy plik o nazwie test.txt i zapisze w nim wiadomość: \"Witaj pliku test.txt\"."
   ]
  },
  {
   "cell_type": "code",
   "execution_count": 12,
   "id": "2c0c4513",
   "metadata": {},
   "outputs": [],
   "source": [
    "test = open(\"test.txt\",'w')\n",
    "test.write(\"Witaj pliku test.txt\")\n",
    "test.close()\n"
   ]
  },
  {
   "cell_type": "markdown",
   "id": "15cad107",
   "metadata": {},
   "source": [
    "W systemie znajduje się plik o nazwie test.txt o następującej zawartości: \n",
    "\n",
    "jan kowalski\n",
    "maria pycho\n",
    "anna nowak\n",
    "monika ratownika\n",
    "marysia zdzisia\n",
    "...\n",
    "Napisz program, który otworzy plik test.txt i do pliku o nazwie test_result.txt zapisze te same linie, ale wielkimi literami zostanie napisana pierwsza kolumna."
   ]
  },
  {
   "cell_type": "code",
   "execution_count": 13,
   "id": "9ddc01c6",
   "metadata": {},
   "outputs": [],
   "source": [
    "def upper_first_column():\n",
    "    file = open('test.txt', 'r')\n",
    "    text = []\n",
    "    \n",
    "    for line in file:\n",
    "        line_list = line.split() \n",
    "        line_list[0] = line_list[0].upper()\n",
    "        line_modified = ' '.join(line_list)\n",
    "        text.append(line_modified)\n",
    "        \n",
    "    file.close()\n",
    "    \n",
    "    file_to_write = open('test_result.txt', 'w')\n",
    "    for line_to_write in text:\n",
    "        file_to_write.write(line_to_write + '\\n')\n",
    "    \n",
    "    file_to_write.close()\n",
    "\n",
    "upper_first_column()"
   ]
  },
  {
   "cell_type": "markdown",
   "id": "53e3134d",
   "metadata": {},
   "source": [
    "W systemie znajdują się różne pliki zawierające pewne linie tekstu.\n",
    "\n",
    "Napisz funkcję o nazwie how_lines(file), który jako argument przyjmuje nazwę pliku (jako ciąg tekstowy), a wyniku zwraca ilość zapisanych linii w tym pliku."
   ]
  },
  {
   "cell_type": "code",
   "execution_count": 14,
   "id": "d8f5c599",
   "metadata": {},
   "outputs": [],
   "source": [
    "def how_lines(file):\n",
    "    f = open(file, 'r')\n",
    "    count = 0\n",
    "    s = f.readline()\n",
    "    while s != '':\n",
    "        s = f.readline()\n",
    "        count = count+1\n",
    "    f.close()\n",
    "    return count"
   ]
  },
  {
   "cell_type": "markdown",
   "id": "3da4fde4",
   "metadata": {},
   "source": [
    "Napisz program, który będzie zapisywał do pliku result.txt wszystko co zapisze użytkownik z klawiatury."
   ]
  },
  {
   "cell_type": "code",
   "execution_count": null,
   "id": "4e46a08a",
   "metadata": {},
   "outputs": [],
   "source": [
    "def write_to_file():\n",
    "    file = open('result.txt', 'w')\n",
    "    while True:\n",
    "        try:\n",
    "            i = input()\n",
    "            file.write(i + '\\n')\n",
    "        except EOFError:\n",
    "            file.close()\n",
    "            break\n",
    "    \n",
    "write_to_file()"
   ]
  },
  {
   "cell_type": "markdown",
   "id": "f936eafd",
   "metadata": {},
   "source": [
    "W pliku polish.txt znajduje się pik tekstowy o następującej zawartości:\n",
    "\n",
    "Wystrzały Zamiar rapier zaniedbuje skoszonéj Zgraja wycieczkę miała krucze Wojska Zwłaszcza szklankami.\n",
    "Dałem Rzeczypospolitéj która żniwo Najpiękniejszego Sokoł najpiękniejszéj.\n",
    "Ogary jadą skarb najpiękniejszym żołniersczyzny wdał zrazy Kościuszkowskie kulą nierostrzygniony Prawa Niesiołowskiemu.\n",
    "Mamy lica pary moim przestępując post kity rzeźbiarstwie bogu Roskrzyżował Byle wyżółkłych ubóstwiałbym.\n",
    "Najpiękniejszego Jéj mami pęk nich Rzeczypospolitéj najpiękniejszéj.\n",
    "Dać Znam masz kurz Wystrzeliliśmy marszałkowską nuda robi najwymowniejsza.\n",
    "Odpowiedziéć zaczerwienione gaju pary niby Bernardyńskie najdawniejszym ubóstwiałbym ojcu.\n",
    "Było znów Kościuszkowskie znał nierostrzygniony najpiękniejszym daczy biję mgły wódz Niesiołowskiemu obora.\n",
    "...\n",
    "Napisz program, który pobierze od użytkownika dwie liczby aa, bb (w jednej linii), a następnie wyświetli linie od aa do bb pliku polish.txt.\n",
    "\n",
    "W przypadku błędów, program ma wypisać komunikat BŁĄD i ma zakończyć działanie."
   ]
  },
  {
   "cell_type": "code",
   "execution_count": null,
   "id": "4b8e0eb5",
   "metadata": {},
   "outputs": [],
   "source": [
    "try:\n",
    "    a, b = input().split()\n",
    "    a = int(a)\n",
    "    b = int(b)\n",
    "\n",
    "    file = open(\"polish.txt\",'r')\n",
    "\n",
    "    for i in range(b):\n",
    "        if i < a-1:\n",
    "            line = file.readline()\n",
    "        else:\n",
    "            line = file.readline()\n",
    "            print(line,end=\"\")    \n",
    "\n",
    "    file.close()\n",
    "\n",
    "except:\n",
    "    print(\"BŁĄD\")"
   ]
  },
  {
   "cell_type": "markdown",
   "id": "beb61e16",
   "metadata": {},
   "source": [
    "W pliku polish.txt znajduje się pik tekstowy o następującej zawartości:\n",
    "\n",
    "Wystrzały Zamiar rapier zaniedbuje skoszonéj Zgraja wycieczkę miała krucze Wojska Zwłaszcza szklankami.\n",
    "Dałem Rzeczypospolitéj która żniwo Najpiękniejszego Sokoł najpiękniejszéj.\n",
    "Ogary jadą skarb najpiękniejszym żołniersczyzny wdał zrazy Kościuszkowskie kulą nierostrzygniony Prawa Niesiołowskiemu.\n",
    "Mamy lica pary moim przestępując post kity rzeźbiarstwie bogu Roskrzyżował Byle wyżółkłych ubóstwiałbym.\n",
    "Najpiękniejszego Jéj mami pęk nich Rzeczypospolitéj najpiękniejszéj.\n",
    "Dać Znam masz kurz Wystrzeliliśmy marszałkowską nuda robi najwymowniejsza.\n",
    "Odpowiedziéć zaczerwienione gaju pary niby Bernardyńskie najdawniejszym ubóstwiałbym ojcu.\n",
    "Było znów Kościuszkowskie znał nierostrzygniony najpiękniejszym daczy biję mgły wódz Niesiołowskiemu obora.\n",
    "...\n",
    "Napisz program, który wyświetli najdłuższe słowo występujące w tym pliku."
   ]
  },
  {
   "cell_type": "code",
   "execution_count": null,
   "id": "ce83a598",
   "metadata": {},
   "outputs": [],
   "source": [
    "with open(\"polish.txt\",'r') as f:\n",
    "    words = f.read().split()\n",
    "    maxlen = max(words,key=len)\n",
    "    print(maxlen)\n"
   ]
  },
  {
   "cell_type": "markdown",
   "id": "bf4c8a91",
   "metadata": {},
   "source": [
    "Napisz program, który pobierze od użytkownika liczbę całkowitą nn, a następnie utworzy nn plików postaci 1.txt, 2.txt, ... ,n.txt. "
   ]
  },
  {
   "cell_type": "code",
   "execution_count": null,
   "id": "2737c2bc",
   "metadata": {},
   "outputs": [],
   "source": [
    "n = int(input())\n",
    "i = 1\n",
    "while n >= i:\n",
    "    x = open(str(i) + \".txt\", \"w\")\n",
    "    x.close()\n",
    "    i += 1\n"
   ]
  },
  {
   "cell_type": "markdown",
   "id": "e3aa5af4",
   "metadata": {},
   "source": [
    "W systemie znajdue się plik data.csv, który wygląda następująco:\n",
    "\n",
    "department_id,department_name,manager_id,location_id\n",
    "10,Administration,200,1700\n",
    "20,Marketing,201,1800\n",
    "30,Purchasing,114,1700\n",
    "40,Human Resources,203,2400\n",
    "50,Shipping,121,1500\n",
    "Napisz program, który wyświetli ten plik csv na ekranie."
   ]
  },
  {
   "cell_type": "code",
   "execution_count": null,
   "id": "9e8c1df7",
   "metadata": {},
   "outputs": [],
   "source": [
    "import csv\n",
    "File = open('data.csv')\n",
    "Reader = csv.reader(File, delimiter = '\\t', lineterminator='\\n')\n",
    "for row in Reader:\n",
    "    print(*row)\n",
    "File.close()\n"
   ]
  },
  {
   "cell_type": "markdown",
   "id": "afe889d1",
   "metadata": {},
   "source": [
    "W systemie znajduje się plik data.csv, który wygląda następująco:\n",
    "\n",
    "country_id country_name region_id\n",
    "AR Argentina 2\n",
    "AU Australia 3\n",
    "BE Belgium 1\n",
    "BR Brazil 2\n",
    "CA Canada 2\n",
    "CH Switzerland 1\n",
    "Napisz program, który wyświetli ten plik csv na ekranie.\n",
    "\n"
   ]
  },
  {
   "cell_type": "code",
   "execution_count": null,
   "id": "1519945c",
   "metadata": {},
   "outputs": [],
   "source": [
    "import csv\n",
    "File = open('data.csv')\n",
    "Reader = csv.reader(File)\n",
    "for row in Reader:\n",
    "    print(*row)\n",
    "File.close()\n"
   ]
  },
  {
   "cell_type": "markdown",
   "id": "ead574a6",
   "metadata": {},
   "source": [
    "W systemie znajdue się plik data.csv, który wygląda następująco:\n",
    "\n",
    "department_id,department_name,manager_id,location_id\n",
    "10,Administration,200,1700\n",
    "20,Marketing,201,1800\n",
    "30,Purchasing,114,1700\n",
    "40,Human Resources,203,2400\n",
    "50,Shipping,121,1500\n",
    "Napisz program, który wyświetli ten plik csv na ekranie bez nagłówka."
   ]
  },
  {
   "cell_type": "code",
   "execution_count": null,
   "id": "5783fac4",
   "metadata": {},
   "outputs": [],
   "source": [
    "import csv\n",
    "File = open('data.csv')\n",
    "Reader = csv.reader(File, delimiter = '\\t', lineterminator='\\n')\n",
    "next(Reader)\n",
    "for row in Reader:\n",
    "    print(*row)\n",
    "File.close()"
   ]
  },
  {
   "cell_type": "markdown",
   "id": "c6275f45",
   "metadata": {},
   "source": [
    "Napisz program, który do pliku o nazwie data.csv zapisze następującą listę list:\n",
    "\n",
    "[[10,'a1', 1], [12,'a2', 3], [14, 'a3', 5], [16, 'a4', 7], [18, 'a5', 9]]"
   ]
  },
  {
   "cell_type": "code",
   "execution_count": null,
   "id": "368ad5eb",
   "metadata": {},
   "outputs": [],
   "source": [
    "import csv\n",
    "outputFile = open('data.csv','w',newline='')\n",
    "outputWriter = csv.writer(outputFile)\n",
    "outputWriter.writerow([10,'a1', 1])\n",
    "outputWriter.writerow([12,'a2', 3])\n",
    "outputWriter.writerow([14, 'a3', 5])\n",
    "outputWriter.writerow([16, 'a4', 7])\n",
    "outputWriter.writerow([18, 'a5', 9])\n",
    "outputFile.close()"
   ]
  },
  {
   "cell_type": "markdown",
   "id": "b6abcc17",
   "metadata": {},
   "source": [
    "Napisz program, który do zmiennej o nazwie pythonJSON zapisze następującą zawartość JSON:\n",
    "\n",
    "{ \"Name\":\"David\", \"Class\":\"I\", \"Age\":6 }"
   ]
  },
  {
   "cell_type": "code",
   "execution_count": null,
   "id": "110ad129",
   "metadata": {},
   "outputs": [],
   "source": [
    "import json\n",
    "J = '{\"Name\":\"David\", \"Class\":\"I\", \"Age\":6}'\n",
    "pythonJSON = json.loads(J)"
   ]
  },
  {
   "cell_type": "markdown",
   "id": "5abff4e6",
   "metadata": {},
   "source": [
    "W zmiennej o nazwie js znajdują się następujące dane:\n",
    "\n",
    "{ \"data\" :[{'state': 'Florida',\n",
    "         'shortname': 'FL',\n",
    "         'info': {'governor': 'Rick Scott'},\n",
    "         'counties': [{'name': 'Dade', 'population': '12345'},\n",
    "                      {'name': 'Broward', 'population': '40000'},\n",
    "                      {'name': 'Palm Beach', 'population': '60000'}]},\n",
    "        {'state': 'Ohio',\n",
    "         'shortname': 'OH',\n",
    "...\n",
    "Napisz program, który dla każdego stanu wypisze jego populacje w formacie: Nazwa_Stanu Populacja"
   ]
  },
  {
   "cell_type": "code",
   "execution_count": null,
   "id": "4a4978c4",
   "metadata": {},
   "outputs": [],
   "source": [
    "for state in js['data']:\n",
    "    population = sum(int(county['population']) for county in state['counties'])\n",
    "    print(state['state'], population)\n"
   ]
  },
  {
   "cell_type": "markdown",
   "id": "3e50161b",
   "metadata": {},
   "source": [
    "# 11 Moduły w języku Python. Przedstawianie danych za pomocą wykresów"
   ]
  },
  {
   "cell_type": "markdown",
   "id": "28422be2",
   "metadata": {},
   "source": [
    "<img src=\"https://ucarecdn.com/cc941acf-43c1-4186-9432-1b5534ca8448/\">"
   ]
  },
  {
   "cell_type": "code",
   "execution_count": null,
   "id": "02b3af0a",
   "metadata": {},
   "outputs": [],
   "source": [
    "import matplotlib.pyplot as plt\n",
    "\n",
    "x_cords = [1,2,3]\n",
    "y_cords = [2,4,1]\n",
    "plt.plot(x_cords, y_cords)\n",
    "plt.title(\"Paulina Pieper\")\n",
    "plt.xlabel(\"Oś X\")\n",
    "plt.ylabel(\"Oś Y\")\n",
    "\n",
    "plt.xticks([1,1.25,1.50,1.75,2,2.25,2.50,2.75,3])\n",
    "plt.yticks([1,1.5,2,2.5,3,3.5,4])\n",
    "\n",
    "plt.grid(True)\n",
    "\n",
    "plt.show()"
   ]
  },
  {
   "cell_type": "markdown",
   "id": "7f766506",
   "metadata": {},
   "source": [
    "<img src='https://ucarecdn.com/a9fa6483-de1e-4e4c-986e-44de8d23a210/'>"
   ]
  },
  {
   "cell_type": "code",
   "execution_count": null,
   "id": "0aedbdde",
   "metadata": {},
   "outputs": [],
   "source": [
    "import matplotlib.pyplot as plt\n",
    "\n",
    "x_cords = [10,20,30]\n",
    "y_cords = [20,40,10]\n",
    "x2_cords = [10,20,30]\n",
    "y2_cords = [40,10,30]\n",
    "plt.plot(x_cords, y_cords)\n",
    "plt.plot(x2_cords,y2_cords)\n",
    "plt.title(\"Paulina Pieper\")\n",
    "plt.xlabel(\"Oś X\")\n",
    "plt.ylabel(\"Oś Y\")\n",
    "\n",
    "plt.xticks([10,12.5,15,17.5,20,22.5,25,27.5,30])\n",
    "plt.yticks([10,15,20,25,30,35,40])\n",
    "\n",
    "plt.grid(True)\n",
    "plt.legend(labels = (\"linia 1\", \"linia 2\"),loc=\"best\")\n",
    "plt.show()"
   ]
  },
  {
   "cell_type": "markdown",
   "id": "1d66a45e",
   "metadata": {},
   "source": [
    "<img src=\"https://ucarecdn.com/3a689c98-e1fe-4357-86c3-00a911a6dc60/\">"
   ]
  },
  {
   "cell_type": "code",
   "execution_count": null,
   "id": "def9bba4",
   "metadata": {},
   "outputs": [],
   "source": [
    "import matplotlib.pyplot as plt\n",
    "%matplotlib inline\n",
    "\n",
    "y_cords = [1,5,10,18,20]\n",
    "x_cords = [2,3,5,6,8]\n",
    "\n",
    "yr_cords = [2,6,11,20,22]\n",
    "xr_cords = [3,4,6,7,9]\n",
    "plt.plot(x_cords, y_cords, 'b*')\n",
    "plt.plot(xr_cords, yr_cords, 'ro')\n",
    "plt.title(\"Paulina Pieper\")\n",
    "\n",
    "plt.xticks([1,2,3,4,5,6,7,8,9,10])\n",
    "plt.yticks([0,1,2,3,4,5,6,7,8,9,10,11,12,13,14,15,16,17,18,19,20,21,22,23,24])\n",
    "\n",
    "plt.grid(True)\n",
    "\n",
    "plt.show()"
   ]
  },
  {
   "cell_type": "markdown",
   "id": "f1404bd6",
   "metadata": {},
   "source": [
    "<img src=\"https://ucarecdn.com/f4709c47-85c8-41e7-b29c-4bfc657e7dce/\">"
   ]
  },
  {
   "cell_type": "code",
   "execution_count": null,
   "id": "8d52445f",
   "metadata": {},
   "outputs": [],
   "source": [
    "import matplotlib.pyplot as plt\n",
    "\n",
    "x_cords = [1,2,3,4,5]\n",
    "y_cords = [772,776,777,778,775]\n",
    "plt.plot(x_cords, y_cords,\"co-\")\n",
    "plt.title(\"Paulina Pieper\")\n",
    "\n",
    "plt.xticks([1,2,3,4,5],['2019-10-03','2019-10-04','2019-10-05','2019-10-06','2019-10-07'])\n",
    "plt.yticks([772,773,774,775,776,777,778])\n",
    "\n",
    "\n",
    "plt.show()"
   ]
  },
  {
   "cell_type": "markdown",
   "id": "f3ac58b4",
   "metadata": {},
   "source": [
    "<img src=\"https://ucarecdn.com/a6e86269-5c8d-42b8-9ffe-0d587e1f398b/\">"
   ]
  },
  {
   "cell_type": "code",
   "execution_count": null,
   "id": "04df8626",
   "metadata": {},
   "outputs": [],
   "source": [
    "import matplotlib.pyplot as plt\n",
    "\n",
    "left = [2,7,12,17,22,27]\n",
    "heights = [22,17,8,9,7,6]\n",
    "\n",
    "bar_width = 4\n",
    "\n",
    "plt.bar(left,heights,bar_width,color=('r','black','g','b','yellow','xkcd:cyan'))\n",
    "\n",
    "plt.title('Popularność języków programowania\\n Paulina Pieper')\n",
    "plt.xlabel('Język programowania')\n",
    "plt.ylabel('Popularność')\n",
    "\n",
    "plt.xticks([2,7,12,17,22,27],['Java','Python','PHP','JavaScript','C#','C++'])\n",
    "plt.yticks([0,5,10,15,20])\n",
    "\n",
    "plt.grid(True)\n",
    "plt.grid(color='red' )\n",
    "plt.minorticks_on()\n",
    "\n",
    "plt.show()"
   ]
  },
  {
   "cell_type": "markdown",
   "id": "4b0eaa00",
   "metadata": {},
   "source": [
    "<img src=\"https://ucarecdn.com/248dc118-4239-430b-9d58-4600adcd78a3/\">"
   ]
  },
  {
   "cell_type": "code",
   "execution_count": null,
   "id": "7f0ed253",
   "metadata": {},
   "outputs": [],
   "source": [
    "import matplotlib.pyplot as plt\n",
    "import numpy as np\n",
    "\n",
    "labels = ['G1', 'G2', 'G3', 'G4', 'G5']\n",
    "men = [22, 30, 34, 30, 27]\n",
    "women = [25, 32, 30, 35, 29]\n",
    "\n",
    "x = np.arange(len(labels))\n",
    "width = 0.15\n",
    "\n",
    "fig, ax = plt.subplots()\n",
    "rects1 = ax.bar(x - width/2, men, width, label='Men', color='green')\n",
    "rects2 = ax.bar(x + width/2, women, width, label='Women', color='red')\n",
    "\n",
    "ax.set_ylabel('Wyniki')\n",
    "ax.set_xlabel('Ludzie')\n",
    "ax.set_title('Paulina Pieper')\n",
    "ax.set_xticks([0,1,2,3,4])\n",
    "ax.set_xticklabels(labels)\n",
    "ax.legend()\n",
    "\n",
    "fig.tight_layout()\n",
    "\n",
    "plt.minorticks_on()\n",
    "\n",
    "plt.show()"
   ]
  },
  {
   "cell_type": "markdown",
   "id": "b5d763e1",
   "metadata": {},
   "source": [
    "<img src=\"https://ucarecdn.com/38cab464-b349-43e8-9be9-00e401828985/\">"
   ]
  },
  {
   "cell_type": "code",
   "execution_count": null,
   "id": "2bded272",
   "metadata": {},
   "outputs": [],
   "source": [
    "import matplotlib.pyplot as plt\n",
    "\n",
    "labels = 'Java', 'Python', 'PHP', 'JavaScript', 'C#', 'C++'\n",
    "sizes = [31.3,24.8,12.4,11.3,10.8,9.4]\n",
    "explode = (0.1,0, 0, 0, 0, 0)\n",
    "\n",
    "fig1, ax1 = plt.subplots()\n",
    "ax1.pie(sizes, explode=explode, labels=labels, autopct='%1.1f%%',\n",
    "        shadow=True, startangle=140, colors = ('r','xkcd:yellow','xkcd:lime','b','xkcd:salmon','xkcd:light blue'))\n",
    "ax1.axis('equal')\n",
    "\n",
    "\n",
    "plt.title('Popularność języków programowania\\n Paulina Pieper')\n",
    "\n",
    "plt.show()"
   ]
  },
  {
   "cell_type": "markdown",
   "id": "10de9843",
   "metadata": {},
   "source": [
    "<img src=\"https://ucarecdn.com/7b2081cc-0ffe-4254-a432-98812f5523b9/\">"
   ]
  },
  {
   "cell_type": "code",
   "execution_count": null,
   "id": "477632bf",
   "metadata": {},
   "outputs": [],
   "source": [
    "import matplotlib.pyplot as plt\n",
    "\n",
    "w1 = len('jedzie')\n",
    "w2 = len('Andrzej')\n",
    "w3 = len('rowerem')\n",
    "w4 = len('ledwie')\n",
    "w5 = len('dajac')\n",
    "w6 = len('rade')\n",
    "w7 = len('nogami')\n",
    "#Jedzie Andrzej rowerem ledwie dając radę nogami\n",
    "\n",
    "left = [2,7,12,17,22,27,32]\n",
    "heights = [w1,w2,w3,w4,w5,w6,w7]\n",
    "\n",
    "bar_width = 4\n",
    "\n",
    "plt.bar(left,heights,bar_width)\n",
    "\n",
    "plt.title(\"Paulina Pieper\")\n",
    "plt.xticks([2,7,12,17,22,27,32],['Jedzie', 'Andrzej', 'rowerem', 'ledwie', 'dając', 'radę', 'nogami'])\n",
    "\n",
    "plt.minorticks_on()\n",
    "plt.show()"
   ]
  },
  {
   "cell_type": "code",
   "execution_count": null,
   "id": "9924af70",
   "metadata": {},
   "outputs": [],
   "source": [
    "import matplotlib.pyplot as plt\n",
    "\n",
    "numbers = [0,0,0,0,0,0,0,0,0,0,0,0,0,0,0,0,0,0,1,1,1,1,1,2,2,2,2,2,3,3,3,4,5,7]\n",
    "\n",
    "plt.title(\"Agata Różycka\")\n",
    "plt.xticks([1,2,3,4,5])\n",
    "plt.hist(numbers,bins= 8, histtype='step')\n",
    "plt.show()"
   ]
  },
  {
   "cell_type": "markdown",
   "id": "6f484727",
   "metadata": {},
   "source": [
    "<img src=\"https://ucarecdn.com/a2fb5eee-edf1-4722-9155-cd6e57134571/\">"
   ]
  },
  {
   "cell_type": "code",
   "execution_count": null,
   "id": "6ad49c21",
   "metadata": {},
   "outputs": [],
   "source": [
    "import matplotlib.pyplot as plt\n",
    "\n",
    "labels = ['Avengers: Endgame', 'Avatar', 'Titanic', 'Star Wars VII', 'Avengers: Infinity War','Jurassic World','The Lion King','The Avengers','Furious 7','Frozen 2']\n",
    "budget = [0.4, 0.237, 0.2, 0.3, 0.4, 0.15, 0.26, 0.22, 0.25, 0.15]\n",
    "box = [2.8, 2.79, 2.19, 2.06, 2.04,1.67,1.65,1.518,1.516,1.45]\n",
    "width = 0.5\n",
    "\n",
    "fig, ax = plt.subplots()\n",
    "\n",
    "ax.bar(labels, budget, width, label='Budget',color = 'red', edgecolor='black')\n",
    "ax.bar(labels, box, width, bottom=budget,\n",
    "       label='box_office', color = 'blue', edgecolor='black')\n",
    "\n",
    "\n",
    "ax.tick_params(axis='x', rotation=90)\n",
    "ax.set_title('Paulina Pieper')\n",
    "ax.legend(edgecolor='black')\n",
    "\n",
    "ax.set_xticks([0,1,2,3,4,5,6,7,8,9,10])\n",
    "\n",
    "fig.patch.set_facecolor('xkcd:silver')\n",
    "\n",
    "plt.show()"
   ]
  },
  {
   "cell_type": "markdown",
   "id": "fabec87b",
   "metadata": {},
   "source": [
    "<img src=\"https://ucarecdn.com/d34e2915-eaa7-4dd8-a96c-0f6ca7fc6e5d/\">"
   ]
  },
  {
   "cell_type": "code",
   "execution_count": null,
   "id": "7e7d3dfc",
   "metadata": {},
   "outputs": [],
   "source": [
    "import pygal\n",
    "from pygal.style import Style\n",
    "\n",
    "custom_style = Style(\n",
    "    opacity = 1.0,\n",
    "    colors=('green','red'))\n",
    "\n",
    "line_chart = pygal.Bar(style=custom_style, width=700)\n",
    "line_chart.title = 'Paulina Pieper'\n",
    "line_chart.x_labels = ['G1','G2','G3','G4','G5']\n",
    "line_chart.add(\"Men\", [22, 30, 34, 30, 27])\n",
    "line_chart.add(\"Women\",  [25, 32, 30, 35, 29])\n",
    "\n",
    "line_chart.render_to_file(\"chart.svg\")"
   ]
  },
  {
   "cell_type": "markdown",
   "id": "09fe9a29",
   "metadata": {},
   "source": [
    "<img src=\"https://ucarecdn.com/7fbdf8bc-bebf-40d6-98ea-feec855bd878/\">"
   ]
  },
  {
   "cell_type": "code",
   "execution_count": null,
   "id": "839c1dfc",
   "metadata": {},
   "outputs": [],
   "source": [
    "import pygal\n",
    "from pygal.style import Style\n",
    "\n",
    "custom_style = Style(\n",
    "    colors=('#007aba', '#4d00bb', '#a900ba', '#cf0080', '#cc0025','#be9720','#5bc81f'))\n",
    "\n",
    "world = pygal.maps.world.SupranationalWorld(style=custom_style)\n",
    "world.title = 'Paulina Pieper'\n",
    "world.add('Asia', [('asia', 1,)])\n",
    "world.add('Europe', [('europe', 1)])\n",
    "world.add('Africa', [('africa', 1)])\n",
    "world.add('North america', [('north_america', 1)])\n",
    "world.add('South america', [('south_america', 1)])\n",
    "world.add('Oceania', [('oceania', 1)])\n",
    "world.add('Antartica', [('antartica', 1)])\n",
    "\n",
    "\n",
    "world.render_to_file(\"world.svg\")"
   ]
  },
  {
   "cell_type": "markdown",
   "id": "eb71e924",
   "metadata": {},
   "source": [
    "<img src=\"https://ucarecdn.com/5311db3c-1718-4124-a1ae-4f7e98d6a50d/\">"
   ]
  },
  {
   "cell_type": "code",
   "execution_count": null,
   "id": "a977bd8c",
   "metadata": {},
   "outputs": [],
   "source": [
    "import pygal\n",
    "\n",
    "line_chart = pygal.Line()\n",
    "line_chart.title = 'Paulina Pieper'\n",
    "line_chart.y_labels = [0.0001,0.0003,0.0004,0.00045,0.0005]\n",
    "line_chart.add('line',  [0.0002,0.0005,0.00035])\n",
    "line_chart.render_to_file(\"bar_chart.svg\")"
   ]
  },
  {
   "cell_type": "markdown",
   "id": "afeda9ff",
   "metadata": {},
   "source": [
    "# 12 Wyrażenia regularne oraz moduł numpy"
   ]
  },
  {
   "cell_type": "markdown",
   "id": "5904e4ce",
   "metadata": {},
   "source": [
    "Napisz program, który pobierze ciąg tekstowy od użytkownika, a następnie wypisze wartość True, jeżeli ciąg ten składa się wyłącznie z liter i cyfr lub False w przeciwnym przypadku."
   ]
  },
  {
   "cell_type": "code",
   "execution_count": null,
   "id": "a0e73e1a",
   "metadata": {},
   "outputs": [],
   "source": [
    "import re\n",
    "i = input()\n",
    "pattern = '^[A-Za-z0-9]*$'\n",
    "if re.search(pattern, i):\n",
    "    print('True')\n",
    "else:\n",
    "    print('False')"
   ]
  },
  {
   "cell_type": "markdown",
   "id": "575a06ff",
   "metadata": {},
   "source": [
    "Napisz program, który pobierze ciąg tekstowy od użytkownika, a następnie wypisze wartość True, jeżeli ciąg ten składa się wyłącznie z litery a, a następnie zero lub więcej wystąpień litery b, a na końcu dowolny znak lub False w przeciwnym przypadku."
   ]
  },
  {
   "cell_type": "code",
   "execution_count": null,
   "id": "e2e3fb54",
   "metadata": {},
   "outputs": [],
   "source": [
    "import re\n",
    "i = input()\n",
    "pattern = '^[aA]b*.$'\n",
    "if re.search(pattern, i):\n",
    "    print('True')\n",
    "else:\n",
    "    print('False')"
   ]
  },
  {
   "cell_type": "markdown",
   "id": "3c7ce66c",
   "metadata": {},
   "source": [
    "Napisz program, który pobierze ciąg tekstowy od użytkownika, a następnie wypisze wartość True, jeżeli ciąg ten składa się na początku z conajmniej jednej małej litery, potem znaku podkreślenie oraz zakończy się conajmniej jedną małą literą w dowolnym miejscu tego ciągu lub False w przeciwnym przypadku."
   ]
  },
  {
   "cell_type": "code",
   "execution_count": null,
   "id": "4f6c6702",
   "metadata": {},
   "outputs": [],
   "source": [
    "import re\n",
    "i = input()\n",
    "pattern = '^[a-z]*_[a-z]*$'\n",
    "if re.search(pattern, i):\n",
    "    print('True')\n",
    "else:\n",
    "    print('False')"
   ]
  },
  {
   "cell_type": "markdown",
   "id": "0274ff64",
   "metadata": {},
   "source": [
    "Napisz program, który pobierze ciąg tekstowy od użytkownika, a następnie wypisze wartość True, jeżeli ciąg ten na końcu wiersza posiada słowo plus ewentualnie znak interpunkcyjny lub False w przeciwnym przypadku."
   ]
  },
  {
   "cell_type": "code",
   "execution_count": null,
   "id": "44f7100d",
   "metadata": {},
   "outputs": [],
   "source": [
    "import re\n",
    "i = input()\n",
    "pattern = 'plus$|[.|,|;|:|-|...|?|!|(|)|\"]$'\n",
    "if re.search(pattern, i):\n",
    "    print('True')\n",
    "else:\n",
    "    print('False')\n"
   ]
  },
  {
   "cell_type": "markdown",
   "id": "c572b229",
   "metadata": {},
   "source": [
    "Napisz program, który pobierze ciąg tekstowy od użytkownika, a następnie wypisze wartość True, jeżeli ciąg ten składa się z cyfry na końcu tego słowa lub False w przeciwnym przypadku."
   ]
  },
  {
   "cell_type": "code",
   "execution_count": null,
   "id": "3c45ebe5",
   "metadata": {},
   "outputs": [],
   "source": [
    "import re\n",
    "i = input()\n",
    "pattern = '\\d$'\n",
    "if re.search(pattern, i):\n",
    "    print('True')\n",
    "else:\n",
    "    print('False')\n"
   ]
  },
  {
   "cell_type": "markdown",
   "id": "0d20da04",
   "metadata": {},
   "source": [
    "Napisz program, który pobierze ciąg tekstowy od użytkownika, a następnie wzorzec.\n",
    "\n",
    "Wynikiem programu ma być ilość odnalezionych wzorców w tekście."
   ]
  },
  {
   "cell_type": "code",
   "execution_count": null,
   "id": "bfbb7bee",
   "metadata": {},
   "outputs": [],
   "source": [
    "import re\n",
    "i = input()\n",
    "s = input()\n",
    "r = re.findall(s, i)\n",
    "print(len(r))\n"
   ]
  },
  {
   "cell_type": "markdown",
   "id": "3cbcae94",
   "metadata": {},
   "source": [
    "Napisz program, który pobierze ciąg tekstowy od użytkownika, a następnie wypisze wyłącznie cyfry z tego ciągu."
   ]
  },
  {
   "cell_type": "code",
   "execution_count": null,
   "id": "2dd33c2b",
   "metadata": {},
   "outputs": [],
   "source": [
    "import re\n",
    "i = input()\n",
    "s = '\\d+'\n",
    "r = re.findall(s, i)\n",
    "print(*r,sep='\\n')\n"
   ]
  },
  {
   "cell_type": "markdown",
   "id": "051ca744",
   "metadata": {},
   "source": [
    "Napisz program, który pobierze ciąg tekstowy od użytkownika, a następnie wypisze wszystkie linki z tego ciągu."
   ]
  },
  {
   "cell_type": "code",
   "execution_count": null,
   "id": "09fc44be",
   "metadata": {},
   "outputs": [],
   "source": [
    "import re\n",
    "\n",
    "i = input()\n",
    "\n",
    "s = 'https:////[a-zA-z0-9]*\\.com|https:////[a-zA-z0-9]*\\.pl|http:////[a-zA-z0-9]*\\.?com|http:////[a-zA-z0-9]*\\.?pl'\n",
    "d = re.findall(s,i)\n",
    "print(d)\n"
   ]
  },
  {
   "cell_type": "markdown",
   "id": "54651939",
   "metadata": {},
   "source": [
    "Napisz program, który pobierze ciąg tekstowy od użytkownika, a następnie wypisze wartość True, jeżeli ciąg ten jest liczbą zmiennoprzecinkową do dwóch miejsc po przecinku lub False w przeciwnym przypadku."
   ]
  },
  {
   "cell_type": "code",
   "execution_count": null,
   "id": "2392353d",
   "metadata": {},
   "outputs": [],
   "source": [
    "import re\n",
    "i = input()\n",
    "pattern = '^\\d*[.][0-9]{0,2}'\n",
    "if re.search(pattern, i):\n",
    "    print('True')\n",
    "else:\n",
    "    print('False')\n"
   ]
  },
  {
   "cell_type": "markdown",
   "id": "b08e4361",
   "metadata": {},
   "source": [
    "Napisz program, który pobierze liczby od użytkownika, a następnie wypisze jej wartość jako obiekt klasy ndarray.\n",
    "\n",
    "Skorzystaj z pakietu NumPy"
   ]
  },
  {
   "cell_type": "code",
   "execution_count": null,
   "id": "aa1f7088",
   "metadata": {},
   "outputs": [],
   "source": [
    "import numpy as np\n",
    "a = []\n",
    "n = input()\n",
    "a.append(n)\n",
    "z = np.array([n])\n",
    "\n",
    "print(np.array2string(z,separator=',', formatter={'str_kind': lambda x: x}))"
   ]
  },
  {
   "cell_type": "markdown",
   "id": "e034e08f",
   "metadata": {},
   "source": [
    "Napisz program, który pobierze liczby od użytkownika do dwóch tablic ndarray, a następnie wypisze wartość True/False porównując elementy tych tablic w kontekście operatora >.\n",
    "\n",
    "Skorzystaj z pakietu NumPy"
   ]
  },
  {
   "cell_type": "code",
   "execution_count": null,
   "id": "b3dbfef5",
   "metadata": {},
   "outputs": [],
   "source": [
    "import numpy as np\n",
    "\n",
    "a = input().split()\n",
    "b = input().split()\n",
    "\n",
    "x = np.array(a)\n",
    "y = np.array(b)\n",
    "\n",
    "print(x > y)"
   ]
  },
  {
   "cell_type": "markdown",
   "id": "8bdfd61f",
   "metadata": {},
   "source": [
    "Napisz program, który pobierze od użytkownika liczby a i b, gdzie a \\times b = na×b=n. Wynikiem ma być tablica dwuwymiarowa klasy ndarray o wymiarach a i b wypełniona liczbami od zera do a \\times ba×b\n",
    "\n",
    "Skorzystaj z pakietu NumPy"
   ]
  },
  {
   "cell_type": "code",
   "execution_count": null,
   "id": "198ab219",
   "metadata": {},
   "outputs": [],
   "source": [
    "import numpy as np\n",
    "\n",
    "x = input().split()\n",
    "\n",
    "a = int(x[0])\n",
    "b = int(x[1])\n",
    "c = a*b\n",
    "\n",
    "x = np.arange(c)\n",
    "y = x.reshape(a,b)\n",
    "print(y)"
   ]
  },
  {
   "cell_type": "code",
   "execution_count": null,
   "id": "3273a16e",
   "metadata": {},
   "outputs": [],
   "source": []
  }
 ],
 "metadata": {
  "kernelspec": {
   "display_name": "Python 3",
   "language": "python",
   "name": "python3"
  },
  "language_info": {
   "codemirror_mode": {
    "name": "ipython",
    "version": 3
   },
   "file_extension": ".py",
   "mimetype": "text/x-python",
   "name": "python",
   "nbconvert_exporter": "python",
   "pygments_lexer": "ipython3",
   "version": "3.8.8"
  }
 },
 "nbformat": 4,
 "nbformat_minor": 5
}
